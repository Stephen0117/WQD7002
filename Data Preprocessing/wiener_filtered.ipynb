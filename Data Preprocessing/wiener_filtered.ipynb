{
 "cells": [
  {
   "cell_type": "code",
   "execution_count": 1,
   "metadata": {},
   "outputs": [],
   "source": [
    "# Cleansing Library\n",
    "import pandas as pd\n",
    "import numpy as np\n",
    "import os\n",
    "\n",
    "# Spectogram\n",
    "from scipy.io import wavfile\n",
    "from scipy.signal.signaltools import wiener\n",
    "import scipy.signal as signal\n",
    "import librosa.display\n",
    "import scipy.io\n",
    "import librosa\n",
    "import cv2\n",
    "from skimage import color, data, restoration\n",
    "\n",
    "# Plot Library\n",
    "import matplotlib.pyplot as plt\n",
    "import tensorflow as tf"
   ]
  },
  {
   "cell_type": "markdown",
   "metadata": {},
   "source": [
    "## Winer Denoise"
   ]
  },
  {
   "cell_type": "code",
   "execution_count": 6,
   "metadata": {},
   "outputs": [],
   "source": [
    "path = 'Data_Folder/train'\n",
    "\n",
    "files = os.listdir(path)\n",
    "l = []\n",
    "for f in files:\n",
    "    l.append(f)"
   ]
  },
  {
   "cell_type": "code",
   "execution_count": 3,
   "metadata": {},
   "outputs": [],
   "source": [
    "def melspec(dic):\n",
    "    \n",
    "    data, sr = librosa.load(f'Data_Folder/train/{dic}')\n",
    "    data = wiener(data)\n",
    "    n_fft = 1024 \n",
    "    hop_length = 200\n",
    "    S = librosa.feature.melspectrogram(y=data, sr=sr,n_fft=n_fft,hop_length=hop_length, window='hann')\n",
    "    S_dB = librosa.power_to_db(S, ref=np.max)\n",
    "    img = librosa.display.specshow(S_dB, sr=sr,fmax=8000)\n",
    "    \n",
    "    plt.savefig(f'Data_Folder/frog_song_w/{dic}.png')\n",
    "    \n",
    "    return plt.close()"
   ]
  },
  {
   "cell_type": "code",
   "execution_count": 5,
   "metadata": {
    "collapsed": true,
    "jupyter": {
     "outputs_hidden": true
    }
   },
   "outputs": [
    {
     "name": "stderr",
     "output_type": "stream",
     "text": [
      "C:\\Users\\Owner\\anaconda3\\lib\\site-packages\\scipy\\signal\\signaltools.py:1475: RuntimeWarning: divide by zero encountered in true_divide\n",
      "  res *= (1 - noise / lVar)\n",
      "C:\\Users\\Owner\\anaconda3\\lib\\site-packages\\scipy\\signal\\signaltools.py:1475: RuntimeWarning: invalid value encountered in multiply\n",
      "  res *= (1 - noise / lVar)\n"
     ]
    },
    {
     "name": "stdout",
     "output_type": "stream",
     "text": [
      "Wall time: 35min 6s\n"
     ]
    }
   ],
   "source": [
    "%%time\n",
    "for i in l:\n",
    "    melspec(i)"
   ]
  },
  {
   "cell_type": "code",
   "execution_count": 2,
   "metadata": {},
   "outputs": [
    {
     "name": "stdout",
     "output_type": "stream",
     "text": [
      "Wall time: 5.72 ms\n"
     ]
    }
   ],
   "source": [
    "%%time\n",
    "path = 'Data_Folder_1/frog_song_w'\n",
    "\n",
    "kf = os.listdir(path)\n",
    "k = []\n",
    "for f in kf:\n",
    "    k.append(f)"
   ]
  },
  {
   "cell_type": "code",
   "execution_count": 7,
   "metadata": {},
   "outputs": [],
   "source": [
    "def res(img):\n",
    "    \n",
    "    images = cv2.imread(f'Data_Folder_1/frog_song_w/{img}')\n",
    "    dsize = (256, 256) \n",
    "    output = cv2.resize(images, dsize)\n",
    "    cv2.imwrite(f'mel_spec_diagram_fwr_n/{img}', output)\n",
    "    del images\n",
    "    \n",
    "    return plt.close()"
   ]
  },
  {
   "cell_type": "code",
   "execution_count": 9,
   "metadata": {},
   "outputs": [
    {
     "name": "stdout",
     "output_type": "stream",
     "text": [
      "Wall time: 20.6 s\n"
     ]
    }
   ],
   "source": [
    "%%time\n",
    "for i in k:\n",
    "    res(i)"
   ]
  },
  {
   "cell_type": "code",
   "execution_count": null,
   "metadata": {},
   "outputs": [],
   "source": []
  }
 ],
 "metadata": {
  "kernelspec": {
   "display_name": "Python 3",
   "language": "python",
   "name": "python3"
  },
  "language_info": {
   "codemirror_mode": {
    "name": "ipython",
    "version": 3
   },
   "file_extension": ".py",
   "mimetype": "text/x-python",
   "name": "python",
   "nbconvert_exporter": "python",
   "pygments_lexer": "ipython3",
   "version": "3.8.5"
  }
 },
 "nbformat": 4,
 "nbformat_minor": 4
}
